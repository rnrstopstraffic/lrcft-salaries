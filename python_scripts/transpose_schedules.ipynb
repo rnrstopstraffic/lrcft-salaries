{
 "cells": [
  {
   "cell_type": "code",
   "execution_count": 1,
   "metadata": {},
   "outputs": [],
   "source": [
    "#Transposes all schedules in the \"schedules\" folder and places the transposed versions into the \"Transposed Schedules\" folder\n",
    "\n",
    "import pandas as pd\n",
    "import numpy as np\n",
    "import os"
   ]
  },
  {
   "cell_type": "code",
   "execution_count": 2,
   "metadata": {},
   "outputs": [],
   "source": [
    "#If not already in place, create necessary file structure\n",
    "\n",
    "def prep_structure():\n",
    "    if os.path.isdir('../transposed_schedules') == False:\n",
    "        os.mkdir('../transposed_schedules')\n",
    "    for dirname, _, filenames in os.walk('transposed_schedules'):\n",
    "        for filename in filenames:\n",
    "                filename = '../transposed_schedules/' + filename\n",
    "                os.remove(filename)"
   ]
  },
  {
   "cell_type": "code",
   "execution_count": 3,
   "metadata": {},
   "outputs": [],
   "source": [
    "#Load schedules as dataframes\n",
    "\n",
    "def load_sched():\n",
    "    global districts\n",
    "    districts = []\n",
    "    for dirname, _, filenames in os.walk('../schedules'):\n",
    "        for filename in filenames:\n",
    "            if filename.endswith('.csv'):\n",
    "                    globals()['df_{}'.format(filename[0:-4])] = pd.read_csv('../schedules/' + filename, index_col = 0)\n",
    "                    #print(filename + \" has been imported as df_\"+filename[0:-4])\n",
    "                    if filename[0:-4] not in districts:\n",
    "                        districts.append(format(filename[0:-4]))"
   ]
  },
  {
   "cell_type": "code",
   "execution_count": 4,
   "metadata": {},
   "outputs": [],
   "source": [
    "#Transpose schedules in preparation for processing\n",
    "\n",
    "def trans_sched():\n",
    "    for dist in districts:\n",
    "        df = eval('df_' + dist)\n",
    "        df.T.to_csv('../transposed_schedules/' + dist + '.csv', index_label = 'b_units')"
   ]
  },
  {
   "cell_type": "code",
   "execution_count": 5,
   "metadata": {},
   "outputs": [],
   "source": [
    "prep_structure()"
   ]
  },
  {
   "cell_type": "code",
   "execution_count": 6,
   "metadata": {},
   "outputs": [],
   "source": [
    "load_sched()"
   ]
  },
  {
   "cell_type": "code",
   "execution_count": 7,
   "metadata": {},
   "outputs": [],
   "source": [
    "trans_sched()"
   ]
  }
 ],
 "metadata": {
  "kernelspec": {
   "display_name": "Python 3",
   "language": "python",
   "name": "python3"
  },
  "language_info": {
   "codemirror_mode": {
    "name": "ipython",
    "version": 3
   },
   "file_extension": ".py",
   "mimetype": "text/x-python",
   "name": "python",
   "nbconvert_exporter": "python",
   "pygments_lexer": "ipython3",
   "version": "3.8.10"
  }
 },
 "nbformat": 4,
 "nbformat_minor": 4
}
