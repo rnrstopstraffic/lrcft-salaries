{
 "cells": [
  {
   "cell_type": "code",
   "execution_count": 1,
   "metadata": {},
   "outputs": [],
   "source": [
    "#Takes rectangular salary schedules (of any dimension), creates a separate row for each unit amount, and combines into a single master dataset for all colleges\n",
    "\n",
    "import pandas as pd\n",
    "import numpy as np\n",
    "import os"
   ]
  },
  {
   "cell_type": "code",
   "execution_count": 2,
   "metadata": {},
   "outputs": [],
   "source": [
    "#If not already in place, creates \"prepped_schedules\" folder and deletes previous prepped schedules\n",
    "\n",
    "def prep_structure():\n",
    "    if os.path.isdir('../prepped_schedules') == False:\n",
    "        os.mkdir('../prepped_schedules')\n",
    "    for dirname, _, filenames in os.walk('../prepped_schedules'):\n",
    "        for filename in filenames:\n",
    "                filename = '../prepped_schedules/' + filename\n",
    "                os.remove(filename)"
   ]
  },
  {
   "cell_type": "code",
   "execution_count": 3,
   "metadata": {},
   "outputs": [],
   "source": [
    "#load salary schedules as dframes under name \"df_fake_XXXCCD\"\n",
    "\n",
    "def load_sched():\n",
    "    global districts\n",
    "    districts = []\n",
    "    for dirname, _, filenames in os.walk('../transposed_schedules'):\n",
    "        for filename in filenames:\n",
    "            if filename.endswith('.csv'):\n",
    "                    globals()['df_{}'.format(filename[0:-4])] = pd.read_csv('../transposed_schedules/' + filename)\n",
    "                    #print(filename + \" has been imported as df_\"+filename[0:-4])\n",
    "                    if filename[0:-4] not in districts :\n",
    "                        districts.append(filename[0:-4])\n",
    "    globals()['df_long'] = pd.read_csv('../longevity_data/longevity.csv')"
   ]
  },
  {
   "cell_type": "code",
   "execution_count": 4,
   "metadata": {},
   "outputs": [],
   "source": [
    "#Insure that units measurements are integers and impute 500 units to the PhD class    \n",
    "\n",
    "def phd_to_num():\n",
    "    for dist in districts:\n",
    "        z = eval('df_' + dist)\n",
    "        z['m_units'] = z.apply(lambda x: int(round(float(x['m_units']))) if x['m_units']!='phd' else int(500), axis = 1)\n",
    "        z['b_units'] = z.apply(lambda x: int(round(float(x['b_units']))) if x['b_units']!='phd' else int(500), axis = 1)"
   ]
  },
  {
   "cell_type": "code",
   "execution_count": 5,
   "metadata": {},
   "outputs": [],
   "source": [
    "#Identify the maximum step value for each schedule\n",
    "\n",
    "def max_step():\n",
    "    global years\n",
    "    years = 0\n",
    "    for dist in districts:\n",
    "        z = eval('df_' + dist)\n",
    "        num_cols = len(z.columns)\n",
    "        if num_cols -3 >years:\n",
    "            years = num_cols-2\n",
    "    print('The highest step is ' + str(years))"
   ]
  },
  {
   "cell_type": "code",
   "execution_count": 6,
   "metadata": {},
   "outputs": [],
   "source": [
    "#create separate row for each distinct unit amount above master's (up to 96) and bachelor's (up to 146) degrees\n",
    "\n",
    "def merge_sched():\n",
    "    print('Merging all schedules together; this might take a few minutes...')\n",
    "    global data\n",
    "    global final_data\n",
    "    \n",
    "    data = {}\n",
    "    \n",
    "    df1 = pd.DataFrame()\n",
    "    \n",
    "    for dist in districts: #running through each individual schedule\n",
    "\n",
    "        df = pd.DataFrame(columns = ['b_units', 'm_units'])\n",
    "\n",
    "        for i in range(147):\n",
    "            df = df.append({'b_units' : i, 'm_units': 499}, ignore_index = True)\n",
    "\n",
    "        for i in range(97):\n",
    "            df = df.append({'b_units' : 499, 'm_units': i}, ignore_index = True)\n",
    "\n",
    "        z = eval('df_' + dist)\n",
    "\n",
    "        t = len(z.columns) \n",
    "\n",
    "        for i in range(1, t-1):\n",
    "            df[str(i)]=0 #create columns for each step\n",
    "        y = len(z) #identify how many salary classes there are\n",
    "        for j in range(1,t-1): #create new rows for each step\n",
    "            k = str(j)\n",
    "            for i in range(y-1): #loops through each class\n",
    "                if i < (y-2): #if class cutoff is not the last one, finds all unit values at or above this cutoff and below the next one and populates the column with those salaries\n",
    "\n",
    "                    df[k] = df.apply(lambda x: z[k][i] if (x[k]==0) & (z['m_units'][i] <= x['m_units']) \n",
    "                                     & (x['m_units'] < z['m_units'][i+1]) else (z[k][i] if (x[k]==0) & (z['b_units'][i] <= x['b_units']) \n",
    "                                     & (x['b_units'] < z['b_units'][i+1]) else x[k]), axis = 1)\n",
    "\n",
    "                else: #if class cutoff is the last one, finds all unit values at or above the cutoff to populate the column\n",
    "                    df[k] = df.apply(lambda x: z[k][i] if (x[k]==0) & (z['m_units'][i] <= x['m_units']) \n",
    "                                     else (z[k][i] if (x[k]==0) & (z['b_units'][i] <= x['b_units']) \n",
    "                                     else x[k]), axis = 1)   \n",
    "\n",
    "        new_row = z.iloc[[y-1]]\n",
    "\n",
    "        df = df.append(new_row, ignore_index=True)\n",
    "            \n",
    "        if t-2 < years: #if this schedule has fewer steps than the max number of steps across all schedules, fills in remaining steps with max salary for class\n",
    "            for i in range(t-1, years+1):\n",
    "                df[str(i)]= df[str(t-2)]\n",
    "        \n",
    "        \n",
    "        df['dist_code']= dist #creates district column\n",
    "        \n",
    "         \n",
    "\n",
    "        #Reshape data set by creating unique rows for each combination of units, step, and and district \n",
    "        vals = df.columns.to_list()\n",
    "        \n",
    "        rem_vals = ['m_units','b_units', 'dist_code']\n",
    "        \n",
    "        for col in rem_vals:\n",
    "            vals.remove(col)\n",
    "        \n",
    "        df = pd.melt(df, id_vars = ['m_units', 'b_units', 'dist_code'], value_vars = vals, value_name = 'salary', var_name = 'step')\n",
    "\n",
    "\n",
    "        if dist in df_long['dist code'].to_list():\n",
    "            for i in range(26):\n",
    "                mult = df_long[str(i)][df_long['dist code'] == dist]\n",
    "                df[str(i)] = df.apply(lambda x: mult, axis = 1)\n",
    "\n",
    "            vals = df.columns.to_list()\n",
    "            rem_vals = ['m_units','b_units', 'dist_code', 'salary', 'step']\n",
    "            for col in rem_vals:\n",
    "                vals.remove(col)\n",
    "\n",
    "            df = pd.melt(df, id_vars = ['m_units','b_units', 'dist_code', 'salary', 'step'], value_vars = vals, value_name = 'long_factor', var_name = 'dist_service')\n",
    "\n",
    "            df['salary'] = df.apply(lambda x: (x['salary'])*(x['long_factor']), axis = 1)\n",
    "        \n",
    "            df.drop(columns = ['long_factor'], inplace = True)\n",
    "        else:\n",
    "            for i in range(26):\n",
    "                df['dist_service']=-1\n",
    "        \n",
    "        df_name = dist + 'a'\n",
    "\n",
    "        data[df_name]=df #save each separate district's melted dframe in a dictionary\n",
    "        \n",
    "        df1 = df1.append(df) #append each district's dframe to the master merged dframe\n",
    "\n",
    "        final_data = df1\n",
    "        "
   ]
  },
  {
   "cell_type": "code",
   "execution_count": 7,
   "metadata": {},
   "outputs": [],
   "source": [
    "#save the individual prepped schedules and the master merged schedules\n",
    "\n",
    "def save_prepped_sched():\n",
    "    for key, value in data.items():\n",
    "        data[key].to_csv('../prepped_schedules/' + key + '.csv', index = False)\n",
    "    \n",
    "    final_data.to_csv('../prepped_schedules/comp_data.csv', index = False)"
   ]
  },
  {
   "cell_type": "code",
   "execution_count": 8,
   "metadata": {},
   "outputs": [],
   "source": [
    "prep_structure()"
   ]
  },
  {
   "cell_type": "code",
   "execution_count": 9,
   "metadata": {},
   "outputs": [],
   "source": [
    "load_sched()"
   ]
  },
  {
   "cell_type": "code",
   "execution_count": 10,
   "metadata": {},
   "outputs": [],
   "source": [
    "phd_to_num()"
   ]
  },
  {
   "cell_type": "code",
   "execution_count": 11,
   "metadata": {},
   "outputs": [
    {
     "name": "stdout",
     "output_type": "stream",
     "text": [
      "The highest step is 50\n"
     ]
    }
   ],
   "source": [
    "max_step()"
   ]
  },
  {
   "cell_type": "code",
   "execution_count": 12,
   "metadata": {},
   "outputs": [
    {
     "name": "stdout",
     "output_type": "stream",
     "text": [
      "Merging all schedules together; this might take a few minutes...\n"
     ]
    }
   ],
   "source": [
    "merge_sched()"
   ]
  },
  {
   "cell_type": "code",
   "execution_count": 13,
   "metadata": {},
   "outputs": [],
   "source": [
    "save_prepped_sched()"
   ]
  }
 ],
 "metadata": {
  "kernelspec": {
   "display_name": "Python 3",
   "language": "python",
   "name": "python3"
  },
  "language_info": {
   "codemirror_mode": {
    "name": "ipython",
    "version": 3
   },
   "file_extension": ".py",
   "mimetype": "text/x-python",
   "name": "python",
   "nbconvert_exporter": "python",
   "pygments_lexer": "ipython3",
   "version": "3.8.10"
  }
 },
 "nbformat": 4,
 "nbformat_minor": 4
}
